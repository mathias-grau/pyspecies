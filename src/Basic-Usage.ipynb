{
 "cells": [
  {
   "cell_type": "code",
   "execution_count": 5,
   "metadata": {},
   "outputs": [],
   "source": [
    "%matplotlib inline\n",
    "from pyspecies import pop, models"
   ]
  },
  {
   "cell_type": "markdown",
   "metadata": {},
   "source": [
    "### Simulating a Lotka-Volterra cycle"
   ]
  },
  {
   "cell_type": "markdown",
   "metadata": {},
   "source": [
    "We want to simulate a cyclical solution of the Lotka-Volterra model:\n",
    "$${\\displaystyle \\left\\{{\\begin{array}{ccc}{\\partial_t u}&=&u\\ {\\Big (}\\alpha -\\beta v{\\Big )}\\\\{\\partial_t v}&=&v\\ {\\Big (}\\delta u-\\gamma {\\Big )}\\end{array}}\\right.}$$\n",
    "\n",
    "We begin by defining two populations that are uniformly distributed in space. The class `models.LV` takes 4 parameters $\\alpha$, $\\beta$, $\\delta$, $\\gamma$ which must all be positive."
   ]
  },
  {
   "cell_type": "code",
   "execution_count": 6,
   "metadata": {},
   "outputs": [],
   "source": [
    "p = pop.Pop(\n",
    "    space = (0, 1, 10),      # lower bound, upper bound, number of points\n",
    "    u0 = lambda x: 1 + 0*x,  # IC for prey\n",
    "    v0 = lambda x: 1 + 0*x,  # IC for predator\n",
    "    model = models.LV(1.1, 0.4, 0.4, 0.1)\n",
    ")"
   ]
  },
  {
   "cell_type": "markdown",
   "metadata": {},
   "source": [
    "We then proceed to two consecutive advances of the simulation, which allows us to observe in more detail what happens at different time scales."
   ]
  },
  {
   "cell_type": "code",
   "execution_count": 7,
   "metadata": {},
   "outputs": [
    {
     "name": "stderr",
     "output_type": "stream",
     "text": [
      "Simulation in progress: 100%|██████████| 199/199 [00:00<00:00, 308.11it/s]\n",
      "Simulation in progress: 100%|██████████| 199/199 [00:00<00:00, 295.16it/s]\n"
     ]
    }
   ],
   "source": [
    "# 20 first seconds = 200 time steps\n",
    "p.sim(duration=20, N=200)\n",
    "\n",
    "# 100 following seconds = 200 time steps\n",
    "p.sim(duration=100, N=200)"
   ]
  },
  {
   "cell_type": "markdown",
   "metadata": {},
   "source": [
    "We finally animate the result:"
   ]
  },
  {
   "cell_type": "code",
   "execution_count": null,
   "metadata": {},
   "outputs": [],
   "source": [
    "p.anim()"
   ]
  },
  {
   "attachments": {},
   "cell_type": "markdown",
   "metadata": {},
   "source": [
    "### Blow-up solution to the SKT model"
   ]
  },
  {
   "cell_type": "markdown",
   "metadata": {},
   "source": [
    "The SKT model is a generalization of the previous model including 6 reaction terms and 6 diffusion terms (linear, quadratic and cross diffusion):\n",
    "$$\\begin{cases}\n",
    "\\partial_{t}u-\\Delta(c_{1}u+d_{11}u^{2}+d_{12}uv) & =u(r_{1}-s_{11}u-s_{12}v)\\\\\n",
    "\\partial_{t}v-\\Delta(c_{2}v+d_{21}uv+d_{22}v^{2}) & =v(r_{2}-s_{21}u-s_{22}v)\n",
    "\\end{cases}$$\n",
    "\n",
    "These terms may be interpreted as follow:\n",
    "| Term     | When positive | When negative     | Predominant when         |\n",
    "|----------|---------------|-------------------|--------------------------|\n",
    "| $r_i$    | Reproduction  | Death             | Small $i$ population     |\n",
    "| $s_{ii}$ | Death         | Reproduction      | Large $i$ population     |\n",
    "| $s_{ij}$ | Prey nature   | Predatory nature  | Strong coexistence       |\n",
    "| $d_i$    | Diffusion     | Concentration     | Large $i$ population     |\n",
    "| $d_{ii}$ | Avoids peaks  | Peak overflow     | Population peaks for $i$ |\n",
    "| $d_{ij}$ | Segregation   | Xenophilia        | Strong coexistence       |\n",
    "\n",
    "We summarize them in the following matrices:\n",
    "$$D:=\\begin{pmatrix}c_{1} & d_{11} & d_{12}\\\\\n",
    "c_{2} & d_{21} & d_{22}\n",
    "\\end{pmatrix}\\quad\\text{and}\\quad R:=\\begin{pmatrix}r_{1} & s_{11} & s_{12}\\\\\n",
    "r_{2} & s_{21} & s_{22}\n",
    "\\end{pmatrix}$$\n",
    "\n",
    "These notations are used by the `models.SKT` class. Let's define our new population:"
   ]
  },
  {
   "cell_type": "code",
   "execution_count": 8,
   "metadata": {},
   "outputs": [],
   "source": [
    "import numpy as np\n",
    "\n",
    "q = pop.Pop(\n",
    "    space = (0, 1, 200),   # we need more points\n",
    "    u0 = lambda x: 1 + np.cos(2*np.pi*x),\n",
    "    v0 = lambda x: 1 + np.sin(2*np.pi*x),\n",
    "    model = models.SKT(\n",
    "        D=np.array([[1, 0, 1], [1e-3, 0, 0]]),\n",
    "        R=np.array([[4, 2, 0], [1, 1, 0]])\n",
    "    )\n",
    ")"
   ]
  },
  {
   "cell_type": "markdown",
   "metadata": {},
   "source": [
    "We can now do the computations:"
   ]
  },
  {
   "cell_type": "code",
   "execution_count": 9,
   "metadata": {},
   "outputs": [
    {
     "name": "stderr",
     "output_type": "stream",
     "text": [
      "Simulation in progress: 100%|██████████| 199/199 [00:00<00:00, 236.23it/s]\n",
      "Simulation in progress: 100%|██████████| 199/199 [00:00<00:00, 234.54it/s]\n"
     ]
    }
   ],
   "source": [
    "q.sim(duration=0.1, N=200)\n",
    "q.sim(duration=2.4, N=200)"
   ]
  },
  {
   "cell_type": "markdown",
   "metadata": {},
   "source": [
    "And print the result:"
   ]
  },
  {
   "cell_type": "code",
   "execution_count": null,
   "metadata": {},
   "outputs": [],
   "source": [
    "q.anim()"
   ]
  }
 ],
 "metadata": {
  "kernelspec": {
   "display_name": "Python 3 (ipykernel)",
   "language": "python",
   "name": "python3"
  },
  "language_info": {
   "codemirror_mode": {
    "name": "ipython",
    "version": 3
   },
   "file_extension": ".py",
   "mimetype": "text/x-python",
   "name": "python",
   "nbconvert_exporter": "python",
   "pygments_lexer": "ipython3",
   "version": "3.10.6 (main, Nov 14 2022, 16:10:14) [GCC 11.3.0]"
  },
  "vscode": {
   "interpreter": {
    "hash": "916dbcbb3f70747c44a77c7bcd40155683ae19c65e1c03b4aa3499c5328201f1"
   }
  }
 },
 "nbformat": 4,
 "nbformat_minor": 2
}
